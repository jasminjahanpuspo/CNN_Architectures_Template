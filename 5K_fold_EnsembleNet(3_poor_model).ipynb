{
  "nbformat": 4,
  "nbformat_minor": 0,
  "metadata": {
    "colab": {
      "provenance": [],
      "gpuType": "V28",
      "mount_file_id": "1MrRcW6xzLuQguAFspGYzKOM9IML69JD2",
      "authorship_tag": "ABX9TyP4XaL7TKcltbKGahfZxwp+",
      "include_colab_link": true
    },
    "kernelspec": {
      "name": "python3",
      "display_name": "Python 3"
    },
    "language_info": {
      "name": "python"
    },
    "accelerator": "TPU"
  },
  "cells": [
    {
      "cell_type": "markdown",
      "metadata": {
        "id": "view-in-github",
        "colab_type": "text"
      },
      "source": [
        "<a href=\"https://colab.research.google.com/github/jasminjahanpuspo/CNN_Architectures_Template/blob/main/5K_fold_EnsembleNet(3_poor_model).ipynb\" target=\"_parent\"><img src=\"https://colab.research.google.com/assets/colab-badge.svg\" alt=\"Open In Colab\"/></a>"
      ]
    },
    {
      "cell_type": "code",
      "execution_count": 1,
      "metadata": {
        "id": "1U_T-jen01dq"
      },
      "outputs": [],
      "source": [
        "import numpy as np\n",
        "import tensorflow as tf\n",
        "from tensorflow.keras.models import load_model\n",
        "from sklearn.metrics import accuracy_score\n",
        "from sklearn.model_selection import KFold\n",
        "from tensorflow.keras.preprocessing import image_dataset_from_directory"
      ]
    },
    {
      "cell_type": "code",
      "source": [
        "import numpy as np\n",
        "from keras.models import Model, load_model\n",
        "from keras.layers import Input, Dense\n",
        "from keras.preprocessing import image_dataset_from_directory\n",
        "from sklearn.model_selection import train_test_split\n",
        "from sklearn.linear_model import LogisticRegression\n",
        "from sklearn.metrics import accuracy_score\n"
      ],
      "metadata": {
        "id": "YFLNFrWn1Hhl"
      },
      "execution_count": 2,
      "outputs": []
    },
    {
      "cell_type": "code",
      "source": [
        "import numpy as np\n",
        "import cv2\n",
        "import os\n",
        "import pandas as pd\n",
        "\n",
        "import glob as gb\n",
        "import seaborn as sns\n",
        "import matplotlib.pyplot as plt\n",
        "%matplotlib inline\n",
        "\n",
        "import tensorflow as tf\n",
        "from tensorflow import keras\n",
        "\n",
        "from tensorflow.keras.preprocessing import image_dataset_from_directory\n",
        "from tensorflow.keras.layers.experimental.preprocessing import RandomFlip, RandomRotation\n",
        "from tensorflow.keras.layers import Dense, Dropout, Flatten\n",
        "from tensorflow.keras.layers import Conv2D, MaxPool2D ,LeakyReLU\n",
        "from tensorflow.keras.models import Model, load_model\n",
        "from tensorflow.keras.models import Sequential\n",
        "from tensorflow.keras.layers import Input, Average"
      ],
      "metadata": {
        "id": "u7pvu8k31JnL"
      },
      "execution_count": 3,
      "outputs": []
    },
    {
      "cell_type": "code",
      "source": [
        "# Set your parameters\n",
        "BATCH_SIZE = 32\n",
        "IMG_SIZE = (224, 224)  # Adjust this according to your model requirements\n",
        "N_FOLDS = 5"
      ],
      "metadata": {
        "id": "PW2EL7fr1LNo"
      },
      "execution_count": 4,
      "outputs": []
    },
    {
      "cell_type": "code",
      "source": [
        "## Define the directories for training, testing, and validation\n",
        "train_directory = '/content/drive/MyDrive/MIAS/train'\n",
        "test_directory = '/content/drive/MyDrive/MIAS/test'\n",
        "valid_directory = '/content/drive/MyDrive/MIAS/val'\n",
        "\n",
        "train_dataset = image_dataset_from_directory(\n",
        "    train_directory,\n",
        "    shuffle=True,\n",
        "    labels='inferred',\n",
        "    batch_size=32,\n",
        "    image_size=(224, 224),\n",
        "    color_mode='rgb',\n",
        "    seed=42\n",
        ")\n",
        "\n",
        "test_dataset = image_dataset_from_directory(\n",
        "    test_directory,\n",
        "    shuffle=False,\n",
        "    labels='inferred',\n",
        "    batch_size=32,\n",
        "    image_size=(224, 224),\n",
        "    color_mode='rgb',\n",
        "    seed=42\n",
        ")\n",
        "\n",
        "val_dataset = image_dataset_from_directory(\n",
        "    valid_directory,\n",
        "    shuffle=True,\n",
        "    labels='inferred',\n",
        "    batch_size=32,\n",
        "    image_size=(224, 224),\n",
        "    color_mode='rgb',\n",
        "    seed=42\n",
        ")\n",
        "\n",
        "valid_dataset = image_dataset_from_directory(\n",
        "    valid_directory,\n",
        "    shuffle=True,\n",
        "    labels='inferred',\n",
        "    batch_size=32,\n",
        "    image_size=(224, 224),\n",
        "    color_mode='rgb',\n",
        "    seed=42\n",
        ")"
      ],
      "metadata": {
        "colab": {
          "base_uri": "https://localhost:8080/"
        },
        "id": "urgq4ZuG1Nmx",
        "outputId": "caed50c8-2067-4a5b-d8fd-4171b1c52e08"
      },
      "execution_count": 5,
      "outputs": [
        {
          "output_type": "stream",
          "name": "stdout",
          "text": [
            "Found 3294 files belonging to 2 classes.\n",
            "Found 573 files belonging to 2 classes.\n",
            "Found 573 files belonging to 2 classes.\n",
            "Found 573 files belonging to 2 classes.\n"
          ]
        }
      ]
    },
    {
      "cell_type": "code",
      "source": [
        "# Load pre-trained models\n",
        "model_1 = load_model('/content/drive/MyDrive/MIAS/BC_Code/resnet50/resnet50-24-0.8534.hdf5')\n",
        "model_2 = load_model('/content/drive/MyDrive/MIAS/BC_Code/densenet121/densenet121-20-0.9162.hdf5')\n",
        "model_3 = load_model('/content/drive/MyDrive/MIAS/BC_Code/MobileNetv3/mobilenetv3-29-0.8080.hdf5')\n"
      ],
      "metadata": {
        "id": "gtt1OxiV1Sxj"
      },
      "execution_count": 6,
      "outputs": []
    },
    {
      "cell_type": "code",
      "source": [
        "# Function to get predictions from a model\n",
        "def get_predictions(model, data):\n",
        "    predictions = model.predict(data)\n",
        "    return np.argmax(predictions, axis=1)\n",
        "\n",
        "# Function to get average predictions from multiple models\n",
        "def get_ensemble_predictions(models, data):\n",
        "    # Get predictions from each model\n",
        "    predictions = [model.predict(data) for model in models]\n",
        "\n",
        "    # Average the predictions\n",
        "    avg_predictions = np.mean(predictions, axis=0)\n",
        "\n",
        "    # Convert averaged predictions to class labels\n",
        "    return np.argmax(avg_predictions, axis=1)\n"
      ],
      "metadata": {
        "id": "UemmnwBt1Vcj"
      },
      "execution_count": 7,
      "outputs": []
    },
    {
      "cell_type": "code",
      "source": [
        "# Assuming train_dataset and val_dataset are preprocessed datasets\n",
        "# Replace with your own data pipeline\n",
        "N_FOLDS = 5  # Define number of folds\n",
        "\n",
        "# Prepare for K-Fold Cross-Validation\n",
        "kf = KFold(n_splits=N_FOLDS, shuffle=True, random_state=42)\n",
        "\n",
        "# Store accuracy for each fold for the ensemble\n",
        "ensemble_accuracies = []\n"
      ],
      "metadata": {
        "id": "We6kH3s51W8V"
      },
      "execution_count": 8,
      "outputs": []
    },
    {
      "cell_type": "code",
      "source": [
        "# K-Fold Cross-Validation\n",
        "for fold, (train_index, val_index) in enumerate(kf.split(np.arange(len(train_dataset)))):\n",
        "    print(f'Training on fold {fold + 1}...')\n",
        "\n",
        "    # Create train and validation datasets based on K-Fold indices\n",
        "    train_fold = train_dataset.skip(val_index[0]).take(len(train_index))\n",
        "    val_fold = train_dataset.skip(train_index[0]).take(len(val_index))\n",
        "\n",
        "    # Get true labels for validation data\n",
        "    y_val = []\n",
        "    for _, labels in val_fold:\n",
        "        y_val.extend(labels.numpy())\n",
        "\n",
        "    y_val = np.array(y_val)\n",
        "\n",
        "    # Train all models on the training fold\n",
        "    history_model_1 = model_1.fit(\n",
        "        train_fold,\n",
        "        epochs=5,  # Adjust epochs as necessary\n",
        "        validation_data=val_fold,\n",
        "        verbose=2\n",
        "    )\n",
        "\n",
        "    history_model_2 = model_2.fit(\n",
        "        train_fold,\n",
        "        epochs=5,\n",
        "        validation_data=val_fold,\n",
        "        verbose=2\n",
        "    )\n",
        "\n",
        "    history_model_3 = model_3.fit(\n",
        "        train_fold,\n",
        "        epochs=5,\n",
        "        validation_data=val_fold,\n",
        "        verbose=2\n",
        "    )\n",
        "\n",
        "    # Get ensemble predictions for the validation fold\n",
        "    models = [model_1, model_2, model_3]\n",
        "    ensemble_predictions = get_ensemble_predictions(models, val_fold)\n",
        "\n",
        "    # Calculate accuracy for the ensemble model\n",
        "    ensemble_accuracy = accuracy_score(y_val, ensemble_predictions)\n",
        "    ensemble_accuracies.append(ensemble_accuracy)\n",
        "\n",
        "    print(f'Fold {fold + 1} Ensemble Accuracy: {ensemble_accuracy:.4f}')\n",
        "\n",
        "# Calculate mean accuracy across all folds for the ensemble\n",
        "mean_ensemble_accuracy = np.mean(ensemble_accuracies)\n",
        "print(f'Mean K-Fold Ensemble Accuracy: {mean_ensemble_accuracy:.4f}')"
      ],
      "metadata": {
        "colab": {
          "base_uri": "https://localhost:8080/"
        },
        "id": "w683dgTF1Z7r",
        "outputId": "c5876774-2925-4943-bf6b-f5b5fbeb55c3"
      },
      "execution_count": 9,
      "outputs": [
        {
          "output_type": "stream",
          "name": "stdout",
          "text": [
            "Training on fold 1...\n",
            "Epoch 1/5\n",
            "82/82 - 68s - loss: 0.3390 - accuracy: 0.8540 - val_loss: 0.2230 - val_accuracy: 0.9271 - 68s/epoch - 827ms/step\n",
            "Epoch 2/5\n",
            "82/82 - 57s - loss: 0.3481 - accuracy: 0.8434 - val_loss: 0.2126 - val_accuracy: 0.9449 - 57s/epoch - 699ms/step\n",
            "Epoch 3/5\n",
            "82/82 - 56s - loss: 0.3314 - accuracy: 0.8575 - val_loss: 0.2171 - val_accuracy: 0.9256 - 56s/epoch - 682ms/step\n",
            "Epoch 4/5\n",
            "82/82 - 56s - loss: 0.3270 - accuracy: 0.8579 - val_loss: 0.1943 - val_accuracy: 0.9390 - 56s/epoch - 682ms/step\n",
            "Epoch 5/5\n",
            "82/82 - 57s - loss: 0.3206 - accuracy: 0.8601 - val_loss: 0.2047 - val_accuracy: 0.9256 - 57s/epoch - 697ms/step\n",
            "Epoch 1/5\n",
            "82/82 - 91s - loss: 0.2946 - accuracy: 0.8883 - val_loss: 0.1843 - val_accuracy: 0.9479 - 91s/epoch - 1s/step\n",
            "Epoch 2/5\n",
            "82/82 - 73s - loss: 0.1490 - accuracy: 0.9459 - val_loss: 0.2851 - val_accuracy: 0.8765 - 73s/epoch - 892ms/step\n",
            "Epoch 3/5\n",
            "82/82 - 73s - loss: 0.1376 - accuracy: 0.9573 - val_loss: 0.5948 - val_accuracy: 0.8110 - 73s/epoch - 888ms/step\n",
            "Epoch 4/5\n",
            "82/82 - 73s - loss: 0.0754 - accuracy: 0.9768 - val_loss: 0.0332 - val_accuracy: 0.9940 - 73s/epoch - 893ms/step\n",
            "Epoch 5/5\n",
            "82/82 - 72s - loss: 0.0436 - accuracy: 0.9844 - val_loss: 0.0254 - val_accuracy: 0.9896 - 72s/epoch - 878ms/step\n",
            "Epoch 1/5\n",
            "82/82 - 12s - loss: 0.4229 - accuracy: 0.8045 - val_loss: 0.3658 - val_accuracy: 0.8363 - 12s/epoch - 146ms/step\n",
            "Epoch 2/5\n",
            "82/82 - 9s - loss: 0.4344 - accuracy: 0.7854 - val_loss: 0.3507 - val_accuracy: 0.8557 - 9s/epoch - 108ms/step\n",
            "Epoch 3/5\n",
            "82/82 - 9s - loss: 0.4297 - accuracy: 0.7934 - val_loss: 0.3426 - val_accuracy: 0.8601 - 9s/epoch - 107ms/step\n",
            "Epoch 4/5\n",
            "82/82 - 9s - loss: 0.4309 - accuracy: 0.7931 - val_loss: 0.3505 - val_accuracy: 0.8497 - 9s/epoch - 109ms/step\n",
            "Epoch 5/5\n",
            "82/82 - 9s - loss: 0.4134 - accuracy: 0.8087 - val_loss: 0.3720 - val_accuracy: 0.8244 - 9s/epoch - 108ms/step\n",
            "21/21 [==============================] - 13s 523ms/step\n",
            "21/21 [==============================] - 15s 603ms/step\n",
            "21/21 [==============================] - 3s 75ms/step\n",
            "Fold 1 Ensemble Accuracy: 0.5149\n",
            "Training on fold 2...\n",
            "Epoch 1/5\n",
            "82/82 - 55s - loss: 0.3142 - accuracy: 0.8563 - val_loss: 0.1907 - val_accuracy: 0.9330 - 55s/epoch - 675ms/step\n",
            "Epoch 2/5\n",
            "82/82 - 57s - loss: 0.3085 - accuracy: 0.8681 - val_loss: 0.1876 - val_accuracy: 0.9420 - 57s/epoch - 694ms/step\n",
            "Epoch 3/5\n",
            "82/82 - 56s - loss: 0.3203 - accuracy: 0.8537 - val_loss: 0.1945 - val_accuracy: 0.9226 - 56s/epoch - 688ms/step\n",
            "Epoch 4/5\n",
            "82/82 - 55s - loss: 0.2979 - accuracy: 0.8632 - val_loss: 0.1886 - val_accuracy: 0.9405 - 55s/epoch - 671ms/step\n",
            "Epoch 5/5\n",
            "82/82 - 55s - loss: 0.3045 - accuracy: 0.8689 - val_loss: 0.1868 - val_accuracy: 0.9360 - 55s/epoch - 675ms/step\n",
            "Epoch 1/5\n",
            "82/82 - 74s - loss: 0.0398 - accuracy: 0.9897 - val_loss: 0.0402 - val_accuracy: 0.9866 - 74s/epoch - 901ms/step\n",
            "Epoch 2/5\n",
            "82/82 - 74s - loss: 0.0421 - accuracy: 0.9882 - val_loss: 0.0080 - val_accuracy: 0.9940 - 74s/epoch - 902ms/step\n",
            "Epoch 3/5\n",
            "82/82 - 72s - loss: 0.0649 - accuracy: 0.9809 - val_loss: 0.0110 - val_accuracy: 0.9955 - 72s/epoch - 875ms/step\n",
            "Epoch 4/5\n",
            "82/82 - 69s - loss: 0.5033 - accuracy: 0.8331 - val_loss: 0.4662 - val_accuracy: 0.6890 - 69s/epoch - 841ms/step\n",
            "Epoch 5/5\n",
            "82/82 - 71s - loss: 0.2032 - accuracy: 0.9085 - val_loss: 0.0430 - val_accuracy: 0.9851 - 71s/epoch - 861ms/step\n",
            "Epoch 1/5\n",
            "82/82 - 9s - loss: 0.4238 - accuracy: 0.8037 - val_loss: 0.3332 - val_accuracy: 0.8705 - 9s/epoch - 110ms/step\n",
            "Epoch 2/5\n",
            "82/82 - 9s - loss: 0.4326 - accuracy: 0.7934 - val_loss: 0.3398 - val_accuracy: 0.8646 - 9s/epoch - 112ms/step\n",
            "Epoch 3/5\n",
            "82/82 - 9s - loss: 0.4087 - accuracy: 0.8102 - val_loss: 0.3685 - val_accuracy: 0.8348 - 9s/epoch - 109ms/step\n",
            "Epoch 4/5\n",
            "82/82 - 9s - loss: 0.4237 - accuracy: 0.8049 - val_loss: 0.3345 - val_accuracy: 0.8676 - 9s/epoch - 110ms/step\n",
            "Epoch 5/5\n",
            "82/82 - 9s - loss: 0.4174 - accuracy: 0.8053 - val_loss: 0.3428 - val_accuracy: 0.8512 - 9s/epoch - 108ms/step\n",
            "21/21 [==============================] - 11s 519ms/step\n",
            "21/21 [==============================] - 12s 570ms/step\n",
            "21/21 [==============================] - 2s 73ms/step\n",
            "Fold 2 Ensemble Accuracy: 0.4955\n",
            "Training on fold 3...\n",
            "Epoch 1/5\n",
            "82/82 - 55s - loss: 0.3052 - accuracy: 0.8575 - val_loss: 0.1913 - val_accuracy: 0.9345 - 55s/epoch - 671ms/step\n",
            "Epoch 2/5\n",
            "82/82 - 54s - loss: 0.2934 - accuracy: 0.8769 - val_loss: 0.2020 - val_accuracy: 0.9241 - 54s/epoch - 664ms/step\n",
            "Epoch 3/5\n",
            "82/82 - 55s - loss: 0.2963 - accuracy: 0.8712 - val_loss: 0.1933 - val_accuracy: 0.9182 - 55s/epoch - 667ms/step\n",
            "Epoch 4/5\n",
            "82/82 - 54s - loss: 0.2882 - accuracy: 0.8750 - val_loss: 0.1726 - val_accuracy: 0.9464 - 54s/epoch - 659ms/step\n",
            "Epoch 5/5\n",
            "82/82 - 55s - loss: 0.3012 - accuracy: 0.8712 - val_loss: 0.1656 - val_accuracy: 0.9509 - 55s/epoch - 668ms/step\n",
            "Epoch 1/5\n",
            "82/82 - 68s - loss: 0.1359 - accuracy: 0.9634 - val_loss: 0.0471 - val_accuracy: 0.9851 - 68s/epoch - 827ms/step\n",
            "Epoch 2/5\n",
            "82/82 - 67s - loss: 0.0202 - accuracy: 0.9947 - val_loss: 0.0131 - val_accuracy: 0.9970 - 67s/epoch - 813ms/step\n",
            "Epoch 3/5\n",
            "82/82 - 69s - loss: 0.0197 - accuracy: 0.9943 - val_loss: 0.0102 - val_accuracy: 0.9970 - 69s/epoch - 837ms/step\n",
            "Epoch 4/5\n",
            "82/82 - 70s - loss: 0.0215 - accuracy: 0.9943 - val_loss: 7.8146e-04 - val_accuracy: 1.0000 - 70s/epoch - 858ms/step\n",
            "Epoch 5/5\n",
            "82/82 - 67s - loss: 0.0085 - accuracy: 0.9985 - val_loss: 0.0057 - val_accuracy: 0.9970 - 67s/epoch - 823ms/step\n",
            "Epoch 1/5\n",
            "82/82 - 9s - loss: 0.4338 - accuracy: 0.7965 - val_loss: 0.3577 - val_accuracy: 0.8378 - 9s/epoch - 105ms/step\n",
            "Epoch 2/5\n",
            "82/82 - 9s - loss: 0.4128 - accuracy: 0.8030 - val_loss: 0.3252 - val_accuracy: 0.8720 - 9s/epoch - 109ms/step\n",
            "Epoch 3/5\n",
            "82/82 - 9s - loss: 0.4253 - accuracy: 0.7973 - val_loss: 0.3420 - val_accuracy: 0.8467 - 9s/epoch - 105ms/step\n",
            "Epoch 4/5\n",
            "82/82 - 9s - loss: 0.4031 - accuracy: 0.8148 - val_loss: 0.3425 - val_accuracy: 0.8423 - 9s/epoch - 109ms/step\n",
            "Epoch 5/5\n",
            "82/82 - 9s - loss: 0.4243 - accuracy: 0.7969 - val_loss: 0.3270 - val_accuracy: 0.8601 - 9s/epoch - 104ms/step\n",
            "21/21 [==============================] - 11s 504ms/step\n",
            "21/21 [==============================] - 12s 534ms/step\n",
            "21/21 [==============================] - 2s 73ms/step\n",
            "Fold 3 Ensemble Accuracy: 0.4970\n",
            "Training on fold 4...\n",
            "Epoch 1/5\n",
            "71/71 - 49s - loss: 0.3193 - accuracy: 0.8656 - val_loss: 0.1779 - val_accuracy: 0.9438 - 49s/epoch - 685ms/step\n",
            "Epoch 2/5\n",
            "71/71 - 49s - loss: 0.3128 - accuracy: 0.8634 - val_loss: 0.1808 - val_accuracy: 0.9438 - 49s/epoch - 683ms/step\n",
            "Epoch 3/5\n",
            "71/71 - 49s - loss: 0.2917 - accuracy: 0.8753 - val_loss: 0.2061 - val_accuracy: 0.9109 - 49s/epoch - 684ms/step\n",
            "Epoch 4/5\n",
            "71/71 - 49s - loss: 0.2972 - accuracy: 0.8736 - val_loss: 0.1917 - val_accuracy: 0.9266 - 49s/epoch - 694ms/step\n",
            "Epoch 5/5\n",
            "71/71 - 49s - loss: 0.3135 - accuracy: 0.8586 - val_loss: 0.1780 - val_accuracy: 0.9406 - 49s/epoch - 688ms/step\n",
            "Epoch 1/5\n",
            "71/71 - 62s - loss: 0.0234 - accuracy: 0.9974 - val_loss: 0.0152 - val_accuracy: 0.9969 - 62s/epoch - 877ms/step\n",
            "Epoch 2/5\n",
            "71/71 - 61s - loss: 0.0484 - accuracy: 0.9877 - val_loss: 0.0659 - val_accuracy: 0.9859 - 61s/epoch - 865ms/step\n",
            "Epoch 3/5\n",
            "71/71 - 63s - loss: 0.0512 - accuracy: 0.9846 - val_loss: 0.0441 - val_accuracy: 0.9875 - 63s/epoch - 882ms/step\n",
            "Epoch 4/5\n",
            "71/71 - 63s - loss: 0.0245 - accuracy: 0.9938 - val_loss: 0.0159 - val_accuracy: 0.9969 - 63s/epoch - 894ms/step\n",
            "Epoch 5/5\n",
            "71/71 - 63s - loss: 5.7737e-04 - accuracy: 1.0000 - val_loss: 0.0012 - val_accuracy: 1.0000 - 63s/epoch - 890ms/step\n",
            "Epoch 1/5\n",
            "71/71 - 9s - loss: 0.4320 - accuracy: 0.7930 - val_loss: 0.3242 - val_accuracy: 0.8656 - 9s/epoch - 126ms/step\n",
            "Epoch 2/5\n",
            "71/71 - 9s - loss: 0.4045 - accuracy: 0.8084 - val_loss: 0.3343 - val_accuracy: 0.8687 - 9s/epoch - 129ms/step\n",
            "Epoch 3/5\n",
            "71/71 - 9s - loss: 0.3995 - accuracy: 0.8088 - val_loss: 0.3368 - val_accuracy: 0.8672 - 9s/epoch - 126ms/step\n",
            "Epoch 4/5\n",
            "71/71 - 9s - loss: 0.4182 - accuracy: 0.7969 - val_loss: 0.3412 - val_accuracy: 0.8531 - 9s/epoch - 130ms/step\n",
            "Epoch 5/5\n",
            "71/71 - 9s - loss: 0.4127 - accuracy: 0.8009 - val_loss: 0.3368 - val_accuracy: 0.8656 - 9s/epoch - 130ms/step\n",
            "20/20 [==============================] - 11s 516ms/step\n",
            "20/20 [==============================] - 11s 533ms/step\n",
            "20/20 [==============================] - 2s 74ms/step\n",
            "Fold 4 Ensemble Accuracy: 0.4938\n",
            "Training on fold 5...\n",
            "Epoch 1/5\n",
            "83/83 - 54s - loss: 0.3136 - accuracy: 0.8633 - val_loss: 0.2086 - val_accuracy: 0.9062 - 54s/epoch - 646ms/step\n",
            "Epoch 2/5\n",
            "83/83 - 55s - loss: 0.3055 - accuracy: 0.8694 - val_loss: 0.1616 - val_accuracy: 0.9516 - 55s/epoch - 660ms/step\n",
            "Epoch 3/5\n",
            "83/83 - 52s - loss: 0.2992 - accuracy: 0.8709 - val_loss: 0.1910 - val_accuracy: 0.9375 - 52s/epoch - 626ms/step\n",
            "Epoch 4/5\n",
            "83/83 - 54s - loss: 0.3017 - accuracy: 0.8678 - val_loss: 0.1885 - val_accuracy: 0.9156 - 54s/epoch - 648ms/step\n",
            "Epoch 5/5\n",
            "83/83 - 55s - loss: 0.2978 - accuracy: 0.8694 - val_loss: 0.1659 - val_accuracy: 0.9609 - 55s/epoch - 657ms/step\n",
            "Epoch 1/5\n",
            "83/83 - 72s - loss: 0.1203 - accuracy: 0.9669 - val_loss: 0.0279 - val_accuracy: 0.9875 - 72s/epoch - 863ms/step\n",
            "Epoch 2/5\n",
            "83/83 - 68s - loss: 0.0094 - accuracy: 0.9962 - val_loss: 0.0018 - val_accuracy: 0.9984 - 68s/epoch - 822ms/step\n",
            "Epoch 3/5\n",
            "83/83 - 70s - loss: 0.0076 - accuracy: 0.9974 - val_loss: 0.0066 - val_accuracy: 0.9984 - 70s/epoch - 839ms/step\n",
            "Epoch 4/5\n",
            "83/83 - 71s - loss: 0.0171 - accuracy: 0.9951 - val_loss: 0.0044 - val_accuracy: 1.0000 - 71s/epoch - 851ms/step\n",
            "Epoch 5/5\n",
            "83/83 - 70s - loss: 0.0026 - accuracy: 0.9992 - val_loss: 3.2356e-04 - val_accuracy: 1.0000 - 70s/epoch - 840ms/step\n",
            "Epoch 1/5\n",
            "83/83 - 9s - loss: 0.4228 - accuracy: 0.8027 - val_loss: 0.3398 - val_accuracy: 0.8438 - 9s/epoch - 104ms/step\n",
            "Epoch 2/5\n",
            "83/83 - 9s - loss: 0.4147 - accuracy: 0.8046 - val_loss: 0.3544 - val_accuracy: 0.8281 - 9s/epoch - 104ms/step\n",
            "Epoch 3/5\n",
            "83/83 - 9s - loss: 0.4084 - accuracy: 0.8072 - val_loss: 0.3397 - val_accuracy: 0.8438 - 9s/epoch - 105ms/step\n",
            "Epoch 4/5\n",
            "83/83 - 9s - loss: 0.4202 - accuracy: 0.8069 - val_loss: 0.3395 - val_accuracy: 0.8469 - 9s/epoch - 105ms/step\n",
            "Epoch 5/5\n",
            "83/83 - 9s - loss: 0.4212 - accuracy: 0.8008 - val_loss: 0.3243 - val_accuracy: 0.8516 - 9s/epoch - 107ms/step\n",
            "20/20 [==============================] - 11s 513ms/step\n",
            "20/20 [==============================] - 11s 512ms/step\n",
            "20/20 [==============================] - 2s 73ms/step\n",
            "Fold 5 Ensemble Accuracy: 0.5047\n",
            "Mean K-Fold Ensemble Accuracy: 0.5012\n"
          ]
        }
      ]
    },
    {
      "cell_type": "code",
      "source": [
        "# Evaluate on the test dataset\n",
        "models = [model_1, model_2, model_3]\n",
        "test_predictions = get_ensemble_predictions(models, test_dataset)\n",
        "\n",
        "# Get true labels for the test dataset\n",
        "y_test = []\n",
        "for _, labels in test_dataset:\n",
        "    y_test.extend(labels.numpy())\n",
        "\n",
        "y_test = np.array(y_test)\n",
        "\n",
        "# Calculate accuracy for the test dataset\n",
        "test_accuracy = accuracy_score(y_test, test_predictions)\n",
        "print(f'Test Accuracy: {test_accuracy:.4f}')"
      ],
      "metadata": {
        "colab": {
          "base_uri": "https://localhost:8080/"
        },
        "id": "dO1NgYBI1b2T",
        "outputId": "895bea4b-fbfd-49ed-daff-70a7e82006b7"
      },
      "execution_count": 10,
      "outputs": [
        {
          "output_type": "stream",
          "name": "stdout",
          "text": [
            "18/18 [==============================] - 23s 1s/step\n",
            "18/18 [==============================] - 10s 556ms/step\n",
            "18/18 [==============================] - 1s 68ms/step\n",
            "Test Accuracy: 0.9703\n"
          ]
        }
      ]
    },
    {
      "cell_type": "code",
      "source": [
        "# Get true labels for the validation or test set\n",
        "y_true = []\n",
        "for _, labels in val_fold:  # Change val_fold to test_dataset for test data\n",
        "    y_true.extend(labels.numpy())\n",
        "\n",
        "y_true = np.array(y_true)  # Convert to numpy array for easier processing\n"
      ],
      "metadata": {
        "id": "t97PaC7M9oup"
      },
      "execution_count": 11,
      "outputs": []
    },
    {
      "cell_type": "code",
      "source": [
        "def get_ensemble_predictions(models, dataset):\n",
        "    # Create an empty list to store predictions from all models\n",
        "    all_predictions = []\n",
        "\n",
        "    for model in models:\n",
        "        model_predictions = []\n",
        "        for images, _ in dataset:  # Loop through dataset without using labels\n",
        "            predictions = model.predict(images)\n",
        "            model_predictions.append(predictions)\n",
        "        all_predictions.append(np.concatenate(model_predictions))\n",
        "\n",
        "    # Average the predictions from all models (for classification)\n",
        "    averaged_predictions = np.mean(np.array(all_predictions), axis=0)\n",
        "\n",
        "    # Convert averaged predictions into class labels (assuming softmax probabilities)\n",
        "    predicted_labels = np.argmax(averaged_predictions, axis=1)\n",
        "\n",
        "    return predicted_labels\n"
      ],
      "metadata": {
        "id": "0Jnsf8GSDmYi"
      },
      "execution_count": 12,
      "outputs": []
    },
    {
      "cell_type": "code",
      "source": [
        "y_pred = get_ensemble_predictions(models, val_fold)  # or test_dataset for test set\n"
      ],
      "metadata": {
        "colab": {
          "base_uri": "https://localhost:8080/"
        },
        "id": "tjTbs87TDpQm",
        "outputId": "f6cdd9e4-7b59-4d2f-8bb5-8e4688773def"
      },
      "execution_count": 13,
      "outputs": [
        {
          "output_type": "stream",
          "name": "stdout",
          "text": [
            "1/1 [==============================] - 1s 1s/step\n",
            "1/1 [==============================] - 0s 477ms/step\n",
            "1/1 [==============================] - 1s 531ms/step\n",
            "1/1 [==============================] - 1s 538ms/step\n",
            "1/1 [==============================] - 1s 541ms/step\n",
            "1/1 [==============================] - 1s 537ms/step\n",
            "1/1 [==============================] - 1s 556ms/step\n",
            "1/1 [==============================] - 1s 554ms/step\n",
            "1/1 [==============================] - 1s 539ms/step\n",
            "1/1 [==============================] - 1s 557ms/step\n",
            "1/1 [==============================] - 1s 587ms/step\n",
            "1/1 [==============================] - 1s 552ms/step\n",
            "1/1 [==============================] - 1s 539ms/step\n",
            "1/1 [==============================] - 1s 553ms/step\n",
            "1/1 [==============================] - 1s 547ms/step\n",
            "1/1 [==============================] - 1s 517ms/step\n",
            "1/1 [==============================] - 1s 553ms/step\n",
            "1/1 [==============================] - 0s 493ms/step\n",
            "1/1 [==============================] - 1s 515ms/step\n",
            "1/1 [==============================] - 0s 489ms/step\n",
            "1/1 [==============================] - 2s 2s/step\n",
            "1/1 [==============================] - 1s 511ms/step\n",
            "1/1 [==============================] - 1s 561ms/step\n",
            "1/1 [==============================] - 1s 629ms/step\n",
            "1/1 [==============================] - 1s 531ms/step\n",
            "1/1 [==============================] - 1s 587ms/step\n",
            "1/1 [==============================] - 0s 487ms/step\n",
            "1/1 [==============================] - 0s 472ms/step\n",
            "1/1 [==============================] - 1s 646ms/step\n",
            "1/1 [==============================] - 1s 660ms/step\n",
            "1/1 [==============================] - 1s 637ms/step\n",
            "1/1 [==============================] - 1s 587ms/step\n",
            "1/1 [==============================] - 0s 490ms/step\n",
            "1/1 [==============================] - 1s 564ms/step\n",
            "1/1 [==============================] - 1s 634ms/step\n",
            "1/1 [==============================] - 1s 601ms/step\n",
            "1/1 [==============================] - 1s 532ms/step\n",
            "1/1 [==============================] - 1s 529ms/step\n",
            "1/1 [==============================] - 0s 487ms/step\n",
            "1/1 [==============================] - 0s 422ms/step\n",
            "1/1 [==============================] - 1s 857ms/step\n",
            "1/1 [==============================] - 0s 85ms/step\n",
            "1/1 [==============================] - 0s 82ms/step\n",
            "1/1 [==============================] - 0s 82ms/step\n",
            "1/1 [==============================] - 0s 84ms/step\n",
            "1/1 [==============================] - 0s 82ms/step\n",
            "1/1 [==============================] - 0s 84ms/step\n",
            "1/1 [==============================] - 0s 82ms/step\n",
            "1/1 [==============================] - 0s 79ms/step\n",
            "1/1 [==============================] - 0s 83ms/step\n",
            "1/1 [==============================] - 0s 81ms/step\n",
            "1/1 [==============================] - 0s 84ms/step\n",
            "1/1 [==============================] - 0s 84ms/step\n",
            "1/1 [==============================] - 0s 86ms/step\n",
            "1/1 [==============================] - 0s 91ms/step\n",
            "1/1 [==============================] - 0s 78ms/step\n",
            "1/1 [==============================] - 0s 84ms/step\n",
            "1/1 [==============================] - 0s 84ms/step\n",
            "1/1 [==============================] - 0s 88ms/step\n",
            "1/1 [==============================] - 0s 81ms/step\n"
          ]
        }
      ]
    },
    {
      "cell_type": "code",
      "source": [
        "from sklearn.metrics import confusion_matrix, classification_report\n",
        "\n",
        "# Confusion matrix\n",
        "conf_matrix = confusion_matrix(y_true, y_pred)\n",
        "print('Confusion Matrix:')\n",
        "print(conf_matrix)\n",
        "\n",
        "# Detailed classification report (Precision, Recall, F1-score)\n",
        "report = classification_report(y_true, y_pred)\n",
        "print('Classification Report:')\n",
        "print(report)\n"
      ],
      "metadata": {
        "colab": {
          "base_uri": "https://localhost:8080/"
        },
        "id": "yaWO23qTDq8C",
        "outputId": "356dfc1c-0d76-400a-cdef-1371586a901b"
      },
      "execution_count": 14,
      "outputs": [
        {
          "output_type": "stream",
          "name": "stdout",
          "text": [
            "Confusion Matrix:\n",
            "[[193 145]\n",
            " [182 120]]\n",
            "Classification Report:\n",
            "              precision    recall  f1-score   support\n",
            "\n",
            "           0       0.51      0.57      0.54       338\n",
            "           1       0.45      0.40      0.42       302\n",
            "\n",
            "    accuracy                           0.49       640\n",
            "   macro avg       0.48      0.48      0.48       640\n",
            "weighted avg       0.49      0.49      0.49       640\n",
            "\n"
          ]
        }
      ]
    },
    {
      "cell_type": "code",
      "source": [
        "# Initialize counters for correct and incorrect predictions\n",
        "correct_predictions = 0\n",
        "incorrect_predictions = 0\n",
        "\n",
        "# Loop through the validation data to count correct and incorrect predictions\n",
        "for i, (images, true_label) in enumerate(val_fold):  # or test_dataset\n",
        "    # Get the true label as an index\n",
        "    true_label = np.argmax(true_label.numpy())  # Assuming one-hot encoded\n",
        "    predicted_label = y_pred[i]  # Get predicted label\n",
        "\n",
        "    # Check if the prediction is correct\n",
        "    if true_label == predicted_label:\n",
        "        correct_predictions += 1\n",
        "    else:\n",
        "        incorrect_predictions += 1\n",
        "\n",
        "# Print the counts\n",
        "print(f'Correct Predictions: {correct_predictions}')\n",
        "print(f'Incorrect Predictions: {incorrect_predictions}')\n",
        "\n",
        "# Optionally, print the total predictions and accuracy\n",
        "total_predictions = correct_predictions + incorrect_predictions\n",
        "accuracy = correct_predictions / total_predictions * 100 if total_predictions > 0 else 0\n",
        "print(f'Total Predictions: {total_predictions}')\n",
        "print(f'Accuracy: {accuracy:.2f}%')\n"
      ],
      "metadata": {
        "colab": {
          "base_uri": "https://localhost:8080/"
        },
        "id": "7zrbXLjcDxMF",
        "outputId": "90bdba6f-9946-4a0a-83d8-789e780d048c"
      },
      "execution_count": 15,
      "outputs": [
        {
          "output_type": "stream",
          "name": "stdout",
          "text": [
            "Correct Predictions: 10\n",
            "Incorrect Predictions: 10\n",
            "Total Predictions: 20\n",
            "Accuracy: 50.00%\n"
          ]
        }
      ]
    }
  ]
}